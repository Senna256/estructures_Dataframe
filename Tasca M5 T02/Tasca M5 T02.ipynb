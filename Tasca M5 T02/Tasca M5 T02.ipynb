{
 "cells": [
  {
   "cell_type": "code",
   "execution_count": null,
   "id": "dd69841b",
   "metadata": {},
   "outputs": [],
   "source": [
    "#Entrega M5 T02 Enric Sena Alvarez"
   ]
  },
  {
   "cell_type": "code",
   "execution_count": 21,
   "id": "1bfa376d",
   "metadata": {},
   "outputs": [
    {
     "data": {
      "text/plain": [
       "count    127.000000\n",
       "mean      11.523622\n",
       "std       24.841630\n",
       "min        0.000000\n",
       "25%        0.000000\n",
       "50%        0.000000\n",
       "75%        0.000000\n",
       "max       95.000000\n",
       "Name: 18.00, dtype: float64"
      ]
     },
     "execution_count": 21,
     "metadata": {},
     "output_type": "execute_result"
    }
   ],
   "source": [
    "#Exercici 1\n",
    "import pandas as pd\n",
    "from sklearn.model_selection import train_test_split\n",
    "df=pd.read_csv(r'housing data.csv')\n",
    "df.head(5)\n",
    "y=df.iloc[:,1] #variable resposta\n",
    "x=df.iloc[:,[2,13]] #variables predicotres\n",
    "X_trainSt, X_testST, y_trainST, y_testST = train_test_split(x,y , random_state=33)\n",
    "#Dades train:\n",
    "X_train.describe()\n",
    "X_test.describe()\n",
    "#Dades test:\n",
    "y_train.describe()\n",
    "y_test.describe()"
   ]
  },
  {
   "cell_type": "code",
   "execution_count": 42,
   "id": "091342ab",
   "metadata": {},
   "outputs": [],
   "source": [
    "#Exercici 2\n",
    "from sklearn import preprocessing\n",
    "standard = preprocessing.scale(df) #estandaritzo les dades\n",
    "\n",
    "yST=df.iloc[:,1] #variable resposta\n",
    "xST=df.iloc[:,[2,13]] #variables predicotres\n",
    "X_trainSt, X_testST, y_trainST, y_testST = train_test_split(xST,yST , random_state=33)\n",
    "#Ara ja tenim les dades estandartitzades.\n"
   ]
  },
  {
   "cell_type": "markdown",
   "id": "a2b02702",
   "metadata": {},
   "source": []
  },
  {
   "cell_type": "code",
   "execution_count": 43,
   "id": "3dc1c8ba",
   "metadata": {},
   "outputs": [
    {
     "data": {
      "text/plain": [
       "(array([ 81., 225.,  43.,  24.,   0.,   0.,   0.,   0.,   0., 132.]),\n",
       " array([-0.98475778, -0.72035737, -0.45595696, -0.19155656,  0.07284385,\n",
       "         0.33724425,  0.60164466,  0.86604507,  1.13044547,  1.39484588,\n",
       "         1.65924629]),\n",
       " <BarContainer object of 10 artists>)"
      ]
     },
     "execution_count": 43,
     "metadata": {},
     "output_type": "execute_result"
    },
    {
     "data": {
      "image/png": "[encoded data removed]",
      "text/plain": [
       "<Figure size 432x288 with 1 Axes>"
      ]
     },
     "metadata": {
      "needs_background": "light"
     },
     "output_type": "display_data"
    }
   ],
   "source": [
    "# Exercici 3\n",
    "import matplotlib.pyplot as plt\n",
    "\n",
    "plt.hist(standard[:,2]) #Resum estadístic gràfic  \n",
    "plt.hist(standard[:,4])\n",
    "plt.hist(standard[:,8]) "
   ]
  }
 ],
 "metadata": {
  "kernelspec": {
   "display_name": "Python 3 (ipykernel)",
   "language": "python",
   "name": "python3"
  },
  "language_info": {
   "codemirror_mode": {
    "name": "ipython",
    "version": 3
   },
   "file_extension": ".py",
   "mimetype": "text/x-python",
   "name": "python",
   "nbconvert_exporter": "python",
   "pygments_lexer": "ipython3",
   "version": "3.9.12"
  }
 },
 "nbformat": 4,
 "nbformat_minor": 5
}
