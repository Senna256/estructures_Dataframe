{
 "cells": [
  {
   "cell_type": "code",
   "execution_count": null,
   "id": "345837db",
   "metadata": {},
   "outputs": [],
   "source": [
    "#Entrega 8 Enric Sena Alvarez"
   ]
  },
  {
   "cell_type": "code",
   "execution_count": 153,
   "id": "d4c94067",
   "metadata": {},
   "outputs": [],
   "source": [
    "#Carrego els paquets necessaris:\n",
    "import pandas as pd\n",
    "import numpy as np\n",
    "import matplotlib.pyplot as plt\n",
    "import kneed\n",
    "from kneed import KneeLocator\n",
    "from sklearn.cluster import KMeans\n",
    "from sklearn.metrics import silhouette_score\n",
    "from sklearn.preprocessing import StandardScaler"
   ]
  },
  {
   "cell_type": "code",
   "execution_count": 56,
   "id": "600c496a",
   "metadata": {},
   "outputs": [],
   "source": [
    "#Carrego el dataset:\n",
    "data=pd.read_csv('Data.csv')\n",
    "data.head(25)\n",
    "data.describe()\n",
    "data=data.drop(columns=['Column1','Column2','Column3','Column4'])\n"
   ]
  },
  {
   "cell_type": "code",
   "execution_count": 125,
   "id": "e52875fe",
   "metadata": {},
   "outputs": [
    {
     "data": {
      "text/plain": [
       "0    video\n",
       "1    photo\n",
       "2    video\n",
       "3    photo\n",
       "4    photo\n",
       "Name: status_type, dtype: object"
      ]
     },
     "execution_count": 125,
     "metadata": {},
     "output_type": "execute_result"
    }
   ],
   "source": [
    "#Exercici 1: Clasifica els registres amb KMEANS\n",
    "#Escalo les dades per a poder treballar:\n",
    "sc=StandardScaler()\n",
    "num_d=data.select_dtypes(exclude=['object'])\n",
    "data[num_d.columns]=sc.fit_transform(num_d)\n",
    "data.head(5)\n",
    "X=data.iloc[:,3:-1]\n",
    "X.head(5)\n",
    "X=X.to_numpy()\n",
    "Y=data.iloc[:,1]\n",
    "Y.head(5)"
   ]
  },
  {
   "cell_type": "code",
   "execution_count": 129,
   "id": "c95bf99d",
   "metadata": {},
   "outputs": [
    {
     "data": {
      "text/plain": [
       "Index(['video'], dtype='object')"
      ]
     },
     "execution_count": 129,
     "metadata": {},
     "output_type": "execute_result"
    }
   ],
   "source": [
    "Y2=pd.get_dummies(Y)\n",
    "Y2.head(10)\n",
    "Y2=Y2.drop(columns=['link','photo','status'])\n",
    "Y2.columns# em quedo només amb la resposta VIDEO."
   ]
  },
  {
   "cell_type": "code",
   "execution_count": 103,
   "id": "583b99e4",
   "metadata": {},
   "outputs": [
    {
     "data": {
      "text/plain": [
       "KMeans(n_clusters=2)"
      ]
     },
     "execution_count": 103,
     "metadata": {},
     "output_type": "execute_result"
    }
   ],
   "source": [
    "#Procedeixo a fer el k-means:\n",
    "#Poso que vull que m'ho classifiqui en 2 grups per diferenciar entre video o photo.\n",
    "\n",
    "kmeans=KMeans(n_clusters=2)\n",
    "kmeans.fit(X)"
   ]
  },
  {
   "cell_type": "code",
   "execution_count": 109,
   "id": "6a882aef",
   "metadata": {},
   "outputs": [
    {
     "data": {
      "text/plain": [
       "array([0, 0, 0, 0, 0, 0, 0, 0, 0, 0, 0, 0, 0, 0, 0, 0, 0, 0, 0, 0, 0, 0,\n",
       "       0, 0, 0, 0, 0, 0, 0, 0, 0, 0, 0, 0, 0, 0, 0, 0, 0, 0, 0, 0, 0, 0,\n",
       "       0, 0, 0, 0, 0, 0, 0, 0, 0, 0, 0, 0, 0, 0, 0, 0, 0, 0, 0, 0, 0, 0,\n",
       "       0, 0, 0, 0, 0, 0, 0, 0, 0, 0, 0, 0, 0, 0, 0, 0, 0, 0, 0, 0, 0, 0,\n",
       "       0, 0, 0, 0, 0, 0, 0, 0, 0, 0, 0, 1, 0, 0, 0, 0, 0, 0, 0, 0, 0, 0,\n",
       "       0, 0, 0, 0, 0, 0, 0, 0, 0, 0, 0, 0, 0, 0, 0, 0, 0, 0, 0, 0, 0, 0,\n",
       "       0, 0, 0, 0, 0, 0, 0, 0, 0, 0, 0, 0, 0, 0, 0, 0, 0, 0])"
      ]
     },
     "execution_count": 109,
     "metadata": {},
     "output_type": "execute_result"
    }
   ],
   "source": [
    "kmeans.labels_[:150]"
   ]
  },
  {
   "cell_type": "code",
   "execution_count": null,
   "id": "3da1db7d",
   "metadata": {},
   "outputs": [],
   "source": [
    "#Exercici 2: Classifica els diferents registres utilitzant clustering jeràrquic."
   ]
  },
  {
   "cell_type": "code",
   "execution_count": 142,
   "id": "92b0f5fd",
   "metadata": {},
   "outputs": [],
   "source": [
    "#Carrego els paquets:\n",
    "from scipy.cluster.hierarchy import dendrogram\n",
    "from sklearn.cluster import AgglomerativeClustering\n",
    "import scipy.cluster.hierarchy as sch\n"
   ]
  },
  {
   "cell_type": "code",
   "execution_count": 141,
   "id": "d9283931",
   "metadata": {},
   "outputs": [
    {
     "data": {
      "image/png": "[encoded data removed]",
      "text/plain": [
       "<Figure size 432x288 with 1 Axes>"
      ]
     },
     "metadata": {
      "needs_background": "light"
     },
     "output_type": "display_data"
    }
   ],
   "source": [
    "dendogram=sch.dendrogram(sch.linkage(X,method='ward'))"
   ]
  },
  {
   "cell_type": "code",
   "execution_count": 147,
   "id": "5d627a4b",
   "metadata": {},
   "outputs": [],
   "source": [
    "#Estableixo que el nombre idoni de clusters és 2 ja que volem classificar entre video o foto:\n",
    "model=AgglomerativeClustering(n_clusters=2,affinity='euclidean',linkage='ward')\n",
    "model.fit(X)\n",
    "labels=model.labels_"
   ]
  },
  {
   "cell_type": "code",
   "execution_count": 148,
   "id": "d252b51f",
   "metadata": {},
   "outputs": [
    {
     "data": {
      "text/plain": [
       "<matplotlib.collections.PathCollection at 0x130ac434250>"
      ]
     },
     "execution_count": 148,
     "metadata": {},
     "output_type": "execute_result"
    },
    {
     "data": {
      "image/png": "[encoded data removed]",
      "text/plain": [
       "<Figure size 432x288 with 1 Axes>"
      ]
     },
     "metadata": {
      "needs_background": "light"
     },
     "output_type": "display_data"
    }
   ],
   "source": [
    "plt.scatter(X[labels==0, 0], X[labels==0, 1], s=50, marker='o', color='red')\n",
    "plt.scatter(X[labels==1, 0], X[labels==1, 1], s=50, marker='o', color='blue')\n",
    "#Veiem que el model podria ser un tant millor i potser aplicant alguna técnica d'aprenentatge supervisat com per exemple un QDA potser conseguiriem discriminar millor tot i que cal tenir en compte que les dimensions del nostre dataser són superiors a 2 i per tant només estem veient una perspectiva de les moltes possibles on potser si que la separació es veu millor.\n",
    "#Podriem aplicar alguna técnica de reducció de la dimensió tal com PCA o analisi factorial per tal de millorar la classificació."
   ]
  },
  {
   "cell_type": "code",
   "execution_count": 155,
   "id": "8e750625",
   "metadata": {},
   "outputs": [
    {
     "data": {
      "text/plain": [
       "0.8600815982295198"
      ]
     },
     "execution_count": 155,
     "metadata": {},
     "output_type": "execute_result"
    }
   ],
   "source": [
    "silhouette_cluster1=silhouette_score(X,labels)\n",
    "silhouette_cluster1\n",
    "#Hem obtingut un silhouette score prou bo per classificar en 2 grups les nostres dades (entre foto i video) ja que esta prop d'1 que és el valor màxim i alhora lluny de zero que significaria que hi ha \"overlapping\" entre clusters."
   ]
  }
 ],
 "metadata": {
  "kernelspec": {
   "display_name": "Python 3 (ipykernel)",
   "language": "python",
   "name": "python3"
  },
  "language_info": {
   "codemirror_mode": {
    "name": "ipython",
    "version": 3
   },
   "file_extension": ".py",
   "mimetype": "text/x-python",
   "name": "python",
   "nbconvert_exporter": "python",
   "pygments_lexer": "ipython3",
   "version": "3.9.12"
  }
 },
 "nbformat": 4,
 "nbformat_minor": 5
}
