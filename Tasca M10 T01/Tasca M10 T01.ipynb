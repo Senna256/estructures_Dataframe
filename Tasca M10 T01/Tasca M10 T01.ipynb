{
 "cells": [
  {
   "cell_type": "code",
   "execution_count": 29,
   "id": "b74466c0",
   "metadata": {},
   "outputs": [],
   "source": [
    "#Tasca M10 T01  Enric Sena Alvarez"
   ]
  },
  {
   "cell_type": "code",
   "execution_count": 30,
   "id": "f0ed2845",
   "metadata": {},
   "outputs": [
    {
     "data": {
      "text/plain": [
       "'Las islas Canarias, situadas en la región subtropical del Atlántico presentan unas peculiares características oceanográficas y geomorfológicas que permiten la existencia de representantes de la una gran variedad de Cetáceos tanto residentes como de paso. Al menos 30 especies de ellos, han sido identificadas. Este conjunto de especies convierten a las islas en uno de los lugares del mundo con mayor diversidad de cetáceos y el mayor de Europa.\\n'"
      ]
     },
     "execution_count": 30,
     "metadata": {},
     "output_type": "execute_result"
    }
   ],
   "source": [
    "# Exercici 1\n",
    "# Utilitzant Beautiful Soup\n",
    "import requests\n",
    "from bs4 import BeautifulSoup\n",
    "\n",
    "URL=\"http://quotes.toscrape.com/\"\n",
    "page= requests.get(URL)\n",
    "soup=BeautifulSoup(page.content,\"html.parser\")\n",
    "\n",
    "results=soup.find(itemprop=\"text\")\n",
    "results\n",
    "\n",
    "URL=\"https://www.bolsasymercados.es/bme-exchange/es/Bolsa-Madrid\"\n",
    "page= requests.get(URL)\n",
    "soup=BeautifulSoup(page.content,\"html.parser\")\n",
    "results2=soup.find('p').getText()\n",
    "results2\n",
    "\n",
    "URL=\"https://es.wikipedia.org/wiki/Anexo:Cet%C3%A1ceos_de_Canarias\"\n",
    "page= requests.get(URL)\n",
    "soup=BeautifulSoup(page.content,\"html.parser\")\n",
    "results3=soup.find('p').getText()\n",
    "results3"
   ]
  },
  {
   "cell_type": "code",
   "execution_count": 31,
   "id": "c98c7f69",
   "metadata": {},
   "outputs": [],
   "source": [
    "# Exercici 1\n",
    "# Amb selenium:"
   ]
  },
  {
   "cell_type": "code",
   "execution_count": 32,
   "id": "cfae83be",
   "metadata": {
    "scrolled": true
   },
   "outputs": [
    {
     "data": {
      "text/plain": [
       "['“The world as we have created it is a process of our thinking. It cannot be changed without changing our thinking.”',\n",
       " '“It is our choices, Harry, that show what we truly are, far more than our abilities.”',\n",
       " '“There are only two ways to live your life. One is as though nothing is a miracle. The other is as though everything is a miracle.”',\n",
       " '“The person, be it gentleman or lady, who has not pleasure in a good novel, must be intolerably stupid.”',\n",
       " \"“Imperfection is beauty, madness is genius and it's better to be absolutely ridiculous than absolutely boring.”\",\n",
       " '“Try not to become a man of success. Rather become a man of value.”',\n",
       " '“It is better to be hated for what you are than to be loved for what you are not.”',\n",
       " \"“I have not failed. I've just found 10,000 ways that won't work.”\",\n",
       " \"“A woman is like a tea bag; you never know how strong it is until it's in hot water.”\",\n",
       " '“A day without sunshine is like, you know, night.”']"
      ]
     },
     "execution_count": 32,
     "metadata": {},
     "output_type": "execute_result"
    }
   ],
   "source": [
    "from selenium import webdriver\n",
    "from selenium.webdriver.common.keys import Keys\n",
    "import pandas as pd\n",
    "from selenium.webdriver.common.by import By\n",
    "\n",
    "driver =webdriver.Chrome(\"chromedriver\")\n",
    "driver.get(\"https://quotes.toscrape.com/\")\n",
    "elem=driver.find_elements(By.CLASS_NAME, 'text')\n",
    "elem\n",
    "\n",
    "elem_list=[]\n",
    "for e in range(len(elem)):\n",
    "    elem_list.append(elem[e].text)\n",
    "elem_list"
   ]
  },
  {
   "cell_type": "code",
   "execution_count": 33,
   "id": "da4322ec",
   "metadata": {},
   "outputs": [
    {
     "data": {
      "text/plain": [
       "[]"
      ]
     },
     "execution_count": 33,
     "metadata": {},
     "output_type": "execute_result"
    }
   ],
   "source": [
    "driver =webdriver.Chrome(\"chromedriver\")\n",
    "driver.get(\"https://www.bolsamadrid.es\")\n",
    "elem=driver.find_elements(By.TAG_NAME, 'p')\n",
    "elem\n",
    "\n",
    "elem2_list=[]\n",
    "for e in range(len(elem)):\n",
    "    elem_list.append(elem[e].text)\n",
    "elem2_list"
   ]
  },
  {
   "cell_type": "code",
   "execution_count": 34,
   "id": "0b04411f",
   "metadata": {},
   "outputs": [
    {
     "data": {
      "text/plain": [
       "[]"
      ]
     },
     "execution_count": 34,
     "metadata": {},
     "output_type": "execute_result"
    }
   ],
   "source": [
    "\n",
    "driver =webdriver.Chrome(\"chromedriver\")\n",
    "driver.get(\"https://es.wikipedia.org/wiki/Soyuz_MS-10\")\n",
    "elem=driver.find_elements(By.TAG_NAME, 'p')\n",
    "elem\n",
    "\n",
    "elem3_list=[]\n",
    "for e in range(len(elem)):\n",
    "    elem_list.append(elem[e].text)\n",
    "elem3_list"
   ]
  },
  {
   "cell_type": "code",
   "execution_count": 35,
   "id": "8280806a",
   "metadata": {},
   "outputs": [
    {
     "data": {
      "text/plain": [
       "['Albert Einstein',\n",
       " 'J.K. Rowling',\n",
       " 'Albert Einstein',\n",
       " 'Jane Austen',\n",
       " 'Marilyn Monroe',\n",
       " 'Albert Einstein',\n",
       " 'André Gide',\n",
       " 'Thomas A. Edison',\n",
       " 'Eleanor Roosevelt',\n",
       " 'Steve Martin']"
      ]
     },
     "execution_count": 35,
     "metadata": {},
     "output_type": "execute_result"
    }
   ],
   "source": [
    "#Exercici 2:\n",
    "#Només puc fer el dataset amb les frases del 1r exemple:\n",
    "#Primer aconseguiré els autors de cada frase:\n",
    "\n",
    "driver =webdriver.Chrome(\"chromedriver\")\n",
    "driver.get(\"https://quotes.toscrape.com/\")\n",
    "autor=driver.find_elements(By.CLASS_NAME, 'author')\n",
    "autor\n",
    "\n",
    "autor_list=[]\n",
    "for e in range(len(autor)):\n",
    "    autor_list.append(autor[e].text)\n",
    "autor_list\n"
   ]
  },
  {
   "cell_type": "code",
   "execution_count": 36,
   "id": "cb2a7279",
   "metadata": {},
   "outputs": [
    {
     "data": {
      "text/html": [
       "<div>\n",
       "<style scoped>\n",
       "    .dataframe tbody tr th:only-of-type {\n",
       "        vertical-align: middle;\n",
       "    }\n",
       "\n",
       "    .dataframe tbody tr th {\n",
       "        vertical-align: top;\n",
       "    }\n",
       "\n",
       "    .dataframe thead th {\n",
       "        text-align: right;\n",
       "    }\n",
       "</style>\n",
       "<table border=\"1\" class=\"dataframe\">\n",
       "  <thead>\n",
       "    <tr style=\"text-align: right;\">\n",
       "      <th></th>\n",
       "      <th>Frase</th>\n",
       "      <th>Autor</th>\n",
       "    </tr>\n",
       "  </thead>\n",
       "  <tbody>\n",
       "    <tr>\n",
       "      <th>0</th>\n",
       "      <td>“The world as we have created it is a process ...</td>\n",
       "      <td>Albert Einstein</td>\n",
       "    </tr>\n",
       "    <tr>\n",
       "      <th>1</th>\n",
       "      <td>“It is our choices, Harry, that show what we t...</td>\n",
       "      <td>J.K. Rowling</td>\n",
       "    </tr>\n",
       "    <tr>\n",
       "      <th>2</th>\n",
       "      <td>“There are only two ways to live your life. On...</td>\n",
       "      <td>Albert Einstein</td>\n",
       "    </tr>\n",
       "    <tr>\n",
       "      <th>3</th>\n",
       "      <td>“The person, be it gentleman or lady, who has ...</td>\n",
       "      <td>Jane Austen</td>\n",
       "    </tr>\n",
       "    <tr>\n",
       "      <th>4</th>\n",
       "      <td>“Imperfection is beauty, madness is genius and...</td>\n",
       "      <td>Marilyn Monroe</td>\n",
       "    </tr>\n",
       "    <tr>\n",
       "      <th>5</th>\n",
       "      <td>“Try not to become a man of success. Rather be...</td>\n",
       "      <td>Albert Einstein</td>\n",
       "    </tr>\n",
       "    <tr>\n",
       "      <th>6</th>\n",
       "      <td>“It is better to be hated for what you are tha...</td>\n",
       "      <td>André Gide</td>\n",
       "    </tr>\n",
       "    <tr>\n",
       "      <th>7</th>\n",
       "      <td>“I have not failed. I've just found 10,000 way...</td>\n",
       "      <td>Thomas A. Edison</td>\n",
       "    </tr>\n",
       "    <tr>\n",
       "      <th>8</th>\n",
       "      <td>“A woman is like a tea bag; you never know how...</td>\n",
       "      <td>Eleanor Roosevelt</td>\n",
       "    </tr>\n",
       "    <tr>\n",
       "      <th>9</th>\n",
       "      <td>“A day without sunshine is like, you know, nig...</td>\n",
       "      <td>Steve Martin</td>\n",
       "    </tr>\n",
       "  </tbody>\n",
       "</table>\n",
       "</div>"
      ],
      "text/plain": [
       "                                               Frase              Autor\n",
       "0  “The world as we have created it is a process ...    Albert Einstein\n",
       "1  “It is our choices, Harry, that show what we t...       J.K. Rowling\n",
       "2  “There are only two ways to live your life. On...    Albert Einstein\n",
       "3  “The person, be it gentleman or lady, who has ...        Jane Austen\n",
       "4  “Imperfection is beauty, madness is genius and...     Marilyn Monroe\n",
       "5  “Try not to become a man of success. Rather be...    Albert Einstein\n",
       "6  “It is better to be hated for what you are tha...         André Gide\n",
       "7  “I have not failed. I've just found 10,000 way...   Thomas A. Edison\n",
       "8  “A woman is like a tea bag; you never know how...  Eleanor Roosevelt\n",
       "9  “A day without sunshine is like, you know, nig...       Steve Martin"
      ]
     },
     "execution_count": 36,
     "metadata": {},
     "output_type": "execute_result"
    }
   ],
   "source": [
    "data=list(elem_list[1:])\n",
    "dataframe=pd.DataFrame(data,columns=['Frase'])\n",
    "dataframe\n",
    "\n",
    "\n",
    "df=pd.DataFrame(columns=['Frase','Autor'])\n",
    "data_tuples = list(zip(elem_list[0:],autor_list[0:]))\n",
    "temp_df =pd.DataFrame(data_tuples,columns=['Frase','Autor'])\n",
    "temp_df\n"
   ]
  },
  {
   "cell_type": "code",
   "execution_count": 53,
   "id": "bb2c6906",
   "metadata": {},
   "outputs": [
    {
     "data": {
      "text/plain": [
       "['2.600 €',\n",
       " '1.450 €',\n",
       " '1.600 €',\n",
       " '2.520 €',\n",
       " '3.016 €',\n",
       " '2.145 €',\n",
       " '2.075 €',\n",
       " '2.395 €',\n",
       " '1.600 €',\n",
       " '1.700 €',\n",
       " '2.125 €',\n",
       " '1.650 €',\n",
       " '2.600 €',\n",
       " '1.100 €',\n",
       " '1.500 €']"
      ]
     },
     "execution_count": 53,
     "metadata": {},
     "output_type": "execute_result"
    }
   ],
   "source": [
    "## Exercici 3\n",
    "driver.get(\"https://www.habitaclia.com/alquiler-en-barcelones.htm\")\n",
    "casa=driver.find_elements(By.CLASS_NAME, 'list-item-content')\n",
    "casa\n",
    "\n",
    "casa_list=[]\n",
    "for e in range(len(casa)):\n",
    "    casa_list.append(casa[e].text)\n",
    "casa_list\n",
    "\n",
    "\n",
    "\n",
    "ubi=driver.find_elements(By.CLASS_NAME,'list-item-location')\n",
    "\n",
    "ubi_list=[]\n",
    "for i in range(len(ubi)):\n",
    "    ubi_list.append(ubi[i].text)\n",
    "ubi_list\n",
    "\n",
    "caracteristiques=driver.find_elements(By.CLASS_NAME,'list-item-feature')\n",
    "\n",
    "caract_list=[]\n",
    "for n in range(len(caracteristiques)):\n",
    "    caract_list.append(caracteristiques[n].text)\n",
    "caract_list\n",
    "\n",
    "\n",
    "preu=driver.find_elements(By.CLASS_NAME,'font-2')\n",
    "\n",
    "preu_list=[]\n",
    "for i in range(len(preu)):\n",
    "    preu_list.append(preu[i].text)\n",
    "preu_list"
   ]
  },
  {
   "cell_type": "code",
   "execution_count": 56,
   "id": "cb49b3f5",
   "metadata": {},
   "outputs": [
    {
     "data": {
      "text/html": [
       "<div>\n",
       "<style scoped>\n",
       "    .dataframe tbody tr th:only-of-type {\n",
       "        vertical-align: middle;\n",
       "    }\n",
       "\n",
       "    .dataframe tbody tr th {\n",
       "        vertical-align: top;\n",
       "    }\n",
       "\n",
       "    .dataframe thead th {\n",
       "        text-align: right;\n",
       "    }\n",
       "</style>\n",
       "<table border=\"1\" class=\"dataframe\">\n",
       "  <thead>\n",
       "    <tr style=\"text-align: right;\">\n",
       "      <th></th>\n",
       "      <th>Títol</th>\n",
       "      <th>Ubicació</th>\n",
       "      <th>Característiques</th>\n",
       "      <th>Preu</th>\n",
       "    </tr>\n",
       "  </thead>\n",
       "  <tbody>\n",
       "    <tr>\n",
       "      <th>0</th>\n",
       "      <td>Alquiler Piso Adriano. Piso con 4 habitaciones...</td>\n",
       "      <td>Barcelona - Sant Gervasi - Galvany</td>\n",
       "      <td>142m2 - 4 habitaciones - 2 baños - 18,31€/m2</td>\n",
       "      <td>2.600 €</td>\n",
       "    </tr>\n",
       "    <tr>\n",
       "      <th>1</th>\n",
       "      <td>Alquiler Ático Carrer del caire. Ático con 2 h...</td>\n",
       "      <td>Barcelona - Putget - Farró</td>\n",
       "      <td>77m2 - 2 habitaciones - 2 baños - 18,83€/m2</td>\n",
       "      <td>1.450 €</td>\n",
       "    </tr>\n",
       "    <tr>\n",
       "      <th>2</th>\n",
       "      <td>Alquiler Piso Sicilia\\nBarcelona - Sagrada Fam...</td>\n",
       "      <td>Barcelona - Sagrada Família</td>\n",
       "      <td>70m2 - 2 habitaciones - 2 baños - 22,86€/m2</td>\n",
       "      <td>1.600 €</td>\n",
       "    </tr>\n",
       "    <tr>\n",
       "      <th>3</th>\n",
       "      <td>Alquiler Piso en Carrer de parcerisa. Piso con...</td>\n",
       "      <td>Barcelona - La Bordeta</td>\n",
       "      <td>84m2 - 3 habitaciones - 2 baños - 30,00€/m2</td>\n",
       "      <td>2.520 €</td>\n",
       "    </tr>\n",
       "    <tr>\n",
       "      <th>4</th>\n",
       "      <td>Alquiler Piso en Calle espronceda 254. Piso co...</td>\n",
       "      <td>Barcelona - Sant Martí</td>\n",
       "      <td>96m2 - 3 habitaciones - 2 baños - 31,42€/m2</td>\n",
       "      <td>3.016 €</td>\n",
       "    </tr>\n",
       "    <tr>\n",
       "      <th>5</th>\n",
       "      <td>Alquiler Piso en Carrer de parcerisa. Piso con...</td>\n",
       "      <td>Barcelona - La Bordeta</td>\n",
       "      <td>59m2 - 2 habitaciones - 1 baño - 36,36€/m2</td>\n",
       "      <td>2.145 €</td>\n",
       "    </tr>\n",
       "    <tr>\n",
       "      <th>6</th>\n",
       "      <td>Alquiler Dúplex en Carrer de coll i pujol 17. ...</td>\n",
       "      <td>Badalona - Centre Badalona</td>\n",
       "      <td>101m2 - 2 habitaciones - 1 baño - 20,54€/m2</td>\n",
       "      <td>2.075 €</td>\n",
       "    </tr>\n",
       "    <tr>\n",
       "      <th>7</th>\n",
       "      <td>Alquiler Piso en Carrer de parcerisa. Piso con...</td>\n",
       "      <td>Barcelona - La Bordeta</td>\n",
       "      <td>59m2 - 2 habitaciones - 1 baño - 40,59€/m2</td>\n",
       "      <td>2.395 €</td>\n",
       "    </tr>\n",
       "    <tr>\n",
       "      <th>8</th>\n",
       "      <td>Alquiler Piso Can pujolet\\nBarcelona - Font d´...</td>\n",
       "      <td>Barcelona - Font d´en Fargas</td>\n",
       "      <td>79m2 - 2 habitaciones - 2 baños - 20,25€/m2</td>\n",
       "      <td>1.600 €</td>\n",
       "    </tr>\n",
       "    <tr>\n",
       "      <th>9</th>\n",
       "      <td>Alquiler Piso Carrer del consell de cent. Piso...</td>\n",
       "      <td>Barcelona - L'Antiga Esquerra de l'Eixample</td>\n",
       "      <td>103m2 - 3 habitaciones - 1 baño - 16,50€/m2</td>\n",
       "      <td>1.700 €</td>\n",
       "    </tr>\n",
       "    <tr>\n",
       "      <th>10</th>\n",
       "      <td>Alquiler Piso en Carrer de parcerisa. Piso con...</td>\n",
       "      <td>Barcelona - La Bordeta</td>\n",
       "      <td>59m2 - 2 habitaciones - 1 baño - 36,02€/m2</td>\n",
       "      <td>2.125 €</td>\n",
       "    </tr>\n",
       "    <tr>\n",
       "      <th>11</th>\n",
       "      <td>Alquiler Piso Carrer de breda. Piso con 4 habi...</td>\n",
       "      <td>Barcelona - Les Corts</td>\n",
       "      <td>114m2 - 4 habitaciones - 2 baños - 14,47€/m2</td>\n",
       "      <td>1.650 €</td>\n",
       "    </tr>\n",
       "    <tr>\n",
       "      <th>12</th>\n",
       "      <td>Alquiler Piso Folgueroles. Piso con 4 habitaci...</td>\n",
       "      <td>Barcelona - Sant Gervasi - Bonanova</td>\n",
       "      <td>139m2 - 4 habitaciones - 3 baños - 18,71€/m2</td>\n",
       "      <td>2.600 €</td>\n",
       "    </tr>\n",
       "    <tr>\n",
       "      <th>13</th>\n",
       "      <td>Alquiler Piso Carrer de la muntanya. Alquiler ...</td>\n",
       "      <td>Hospitalet de Llobregat (L´) - Sant Josep</td>\n",
       "      <td>60m2 - 2 habitaciones - 1 baño - 18,33€/m2</td>\n",
       "      <td>1.100 €</td>\n",
       "    </tr>\n",
       "    <tr>\n",
       "      <th>14</th>\n",
       "      <td>Alquiler Piso en Carrer del consell de cent 32...</td>\n",
       "      <td>Barcelona - Dreta de l´Eixample</td>\n",
       "      <td>110m2 - 2 habitaciones - 1 baño - 13,64€/m2</td>\n",
       "      <td>1.500 €</td>\n",
       "    </tr>\n",
       "  </tbody>\n",
       "</table>\n",
       "</div>"
      ],
      "text/plain": [
       "                                                Títol  \\\n",
       "0   Alquiler Piso Adriano. Piso con 4 habitaciones...   \n",
       "1   Alquiler Ático Carrer del caire. Ático con 2 h...   \n",
       "2   Alquiler Piso Sicilia\\nBarcelona - Sagrada Fam...   \n",
       "3   Alquiler Piso en Carrer de parcerisa. Piso con...   \n",
       "4   Alquiler Piso en Calle espronceda 254. Piso co...   \n",
       "5   Alquiler Piso en Carrer de parcerisa. Piso con...   \n",
       "6   Alquiler Dúplex en Carrer de coll i pujol 17. ...   \n",
       "7   Alquiler Piso en Carrer de parcerisa. Piso con...   \n",
       "8   Alquiler Piso Can pujolet\\nBarcelona - Font d´...   \n",
       "9   Alquiler Piso Carrer del consell de cent. Piso...   \n",
       "10  Alquiler Piso en Carrer de parcerisa. Piso con...   \n",
       "11  Alquiler Piso Carrer de breda. Piso con 4 habi...   \n",
       "12  Alquiler Piso Folgueroles. Piso con 4 habitaci...   \n",
       "13  Alquiler Piso Carrer de la muntanya. Alquiler ...   \n",
       "14  Alquiler Piso en Carrer del consell de cent 32...   \n",
       "\n",
       "                                       Ubicació  \\\n",
       "0            Barcelona - Sant Gervasi - Galvany   \n",
       "1                    Barcelona - Putget - Farró   \n",
       "2                   Barcelona - Sagrada Família   \n",
       "3                        Barcelona - La Bordeta   \n",
       "4                        Barcelona - Sant Martí   \n",
       "5                        Barcelona - La Bordeta   \n",
       "6                    Badalona - Centre Badalona   \n",
       "7                        Barcelona - La Bordeta   \n",
       "8                  Barcelona - Font d´en Fargas   \n",
       "9   Barcelona - L'Antiga Esquerra de l'Eixample   \n",
       "10                       Barcelona - La Bordeta   \n",
       "11                        Barcelona - Les Corts   \n",
       "12          Barcelona - Sant Gervasi - Bonanova   \n",
       "13    Hospitalet de Llobregat (L´) - Sant Josep   \n",
       "14              Barcelona - Dreta de l´Eixample   \n",
       "\n",
       "                                Característiques     Preu  \n",
       "0   142m2 - 4 habitaciones - 2 baños - 18,31€/m2  2.600 €  \n",
       "1    77m2 - 2 habitaciones - 2 baños - 18,83€/m2  1.450 €  \n",
       "2    70m2 - 2 habitaciones - 2 baños - 22,86€/m2  1.600 €  \n",
       "3    84m2 - 3 habitaciones - 2 baños - 30,00€/m2  2.520 €  \n",
       "4    96m2 - 3 habitaciones - 2 baños - 31,42€/m2  3.016 €  \n",
       "5     59m2 - 2 habitaciones - 1 baño - 36,36€/m2  2.145 €  \n",
       "6    101m2 - 2 habitaciones - 1 baño - 20,54€/m2  2.075 €  \n",
       "7     59m2 - 2 habitaciones - 1 baño - 40,59€/m2  2.395 €  \n",
       "8    79m2 - 2 habitaciones - 2 baños - 20,25€/m2  1.600 €  \n",
       "9    103m2 - 3 habitaciones - 1 baño - 16,50€/m2  1.700 €  \n",
       "10    59m2 - 2 habitaciones - 1 baño - 36,02€/m2  2.125 €  \n",
       "11  114m2 - 4 habitaciones - 2 baños - 14,47€/m2  1.650 €  \n",
       "12  139m2 - 4 habitaciones - 3 baños - 18,71€/m2  2.600 €  \n",
       "13    60m2 - 2 habitaciones - 1 baño - 18,33€/m2  1.100 €  \n",
       "14   110m2 - 2 habitaciones - 1 baño - 13,64€/m2  1.500 €  "
      ]
     },
     "execution_count": 56,
     "metadata": {},
     "output_type": "execute_result"
    }
   ],
   "source": [
    "\n",
    "data = list(zip(casa_list[0:],ubi_list[0:],caract_list[0:],preu_list[0:]))\n",
    "df =pd.DataFrame(data,columns=['Títol','Ubicació','Característiques','Preu'])\n",
    "df"
   ]
  },
  {
   "cell_type": "code",
   "execution_count": null,
   "id": "89c888c5",
   "metadata": {},
   "outputs": [],
   "source": [
    "## Amb Scrapy no aconsegueixo que funcioni.\n"
   ]
  }
 ],
 "metadata": {
  "kernelspec": {
   "display_name": "Python 3 (ipykernel)",
   "language": "python",
   "name": "python3"
  },
  "language_info": {
   "codemirror_mode": {
    "name": "ipython",
    "version": 3
   },
   "file_extension": ".py",
   "mimetype": "text/x-python",
   "name": "python",
   "nbconvert_exporter": "python",
   "pygments_lexer": "ipython3",
   "version": "3.9.12"
  }
 },
 "nbformat": 4,
 "nbformat_minor": 5
}
