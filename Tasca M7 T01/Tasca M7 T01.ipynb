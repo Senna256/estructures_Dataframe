{
 "cells": [
  {
   "cell_type": "code",
   "execution_count": null,
   "id": "fc8bc7e6",
   "metadata": {},
   "outputs": [],
   "source": [
    "#Entrega 7 Enric Sena Alvarez"
   ]
  },
  {
   "cell_type": "code",
   "execution_count": 103,
   "id": "45a2c2e6",
   "metadata": {},
   "outputs": [
    {
     "data": {
      "text/html": [
       "<div>\n",
       "<style scoped>\n",
       "    .dataframe tbody tr th:only-of-type {\n",
       "        vertical-align: middle;\n",
       "    }\n",
       "\n",
       "    .dataframe tbody tr th {\n",
       "        vertical-align: top;\n",
       "    }\n",
       "\n",
       "    .dataframe thead th {\n",
       "        text-align: right;\n",
       "    }\n",
       "</style>\n",
       "<table border=\"1\" class=\"dataframe\">\n",
       "  <thead>\n",
       "    <tr style=\"text-align: right;\">\n",
       "      <th></th>\n",
       "      <th>class</th>\n",
       "      <th>Alcohol</th>\n",
       "      <th>Malic_acid</th>\n",
       "      <th>Ash</th>\n",
       "      <th>Alcalinity_of_ash</th>\n",
       "      <th>Magnessium</th>\n",
       "      <th>Total_phenols</th>\n",
       "      <th>Flavanoids</th>\n",
       "      <th>Nonflavanoid_phenols</th>\n",
       "      <th>Proacthocyanins</th>\n",
       "      <th>Color_intensity</th>\n",
       "      <th>Hue</th>\n",
       "      <th>OD280/OD315_of_diluted_wines</th>\n",
       "      <th>Proline</th>\n",
       "    </tr>\n",
       "  </thead>\n",
       "  <tbody>\n",
       "    <tr>\n",
       "      <th>count</th>\n",
       "      <td>178.00</td>\n",
       "      <td>178.00</td>\n",
       "      <td>178.00</td>\n",
       "      <td>178.00</td>\n",
       "      <td>178.00</td>\n",
       "      <td>178.00</td>\n",
       "      <td>178.00</td>\n",
       "      <td>178.00</td>\n",
       "      <td>178.00</td>\n",
       "      <td>178.00</td>\n",
       "      <td>178.00</td>\n",
       "      <td>178.00</td>\n",
       "      <td>178.00</td>\n",
       "      <td>178.00</td>\n",
       "    </tr>\n",
       "    <tr>\n",
       "      <th>mean</th>\n",
       "      <td>1.94</td>\n",
       "      <td>13.00</td>\n",
       "      <td>2.34</td>\n",
       "      <td>2.37</td>\n",
       "      <td>19.49</td>\n",
       "      <td>99.74</td>\n",
       "      <td>2.30</td>\n",
       "      <td>2.03</td>\n",
       "      <td>0.36</td>\n",
       "      <td>1.59</td>\n",
       "      <td>5.06</td>\n",
       "      <td>0.96</td>\n",
       "      <td>2.61</td>\n",
       "      <td>746.89</td>\n",
       "    </tr>\n",
       "    <tr>\n",
       "      <th>std</th>\n",
       "      <td>0.78</td>\n",
       "      <td>0.81</td>\n",
       "      <td>1.12</td>\n",
       "      <td>0.27</td>\n",
       "      <td>3.34</td>\n",
       "      <td>14.28</td>\n",
       "      <td>0.63</td>\n",
       "      <td>1.00</td>\n",
       "      <td>0.12</td>\n",
       "      <td>0.57</td>\n",
       "      <td>2.32</td>\n",
       "      <td>0.23</td>\n",
       "      <td>0.71</td>\n",
       "      <td>314.91</td>\n",
       "    </tr>\n",
       "    <tr>\n",
       "      <th>min</th>\n",
       "      <td>1.00</td>\n",
       "      <td>11.03</td>\n",
       "      <td>0.74</td>\n",
       "      <td>1.36</td>\n",
       "      <td>10.60</td>\n",
       "      <td>70.00</td>\n",
       "      <td>0.98</td>\n",
       "      <td>0.34</td>\n",
       "      <td>0.13</td>\n",
       "      <td>0.41</td>\n",
       "      <td>1.28</td>\n",
       "      <td>0.48</td>\n",
       "      <td>1.27</td>\n",
       "      <td>278.00</td>\n",
       "    </tr>\n",
       "    <tr>\n",
       "      <th>25%</th>\n",
       "      <td>1.00</td>\n",
       "      <td>12.36</td>\n",
       "      <td>1.60</td>\n",
       "      <td>2.21</td>\n",
       "      <td>17.20</td>\n",
       "      <td>88.00</td>\n",
       "      <td>1.74</td>\n",
       "      <td>1.21</td>\n",
       "      <td>0.27</td>\n",
       "      <td>1.25</td>\n",
       "      <td>3.22</td>\n",
       "      <td>0.78</td>\n",
       "      <td>1.94</td>\n",
       "      <td>500.50</td>\n",
       "    </tr>\n",
       "    <tr>\n",
       "      <th>50%</th>\n",
       "      <td>2.00</td>\n",
       "      <td>13.05</td>\n",
       "      <td>1.87</td>\n",
       "      <td>2.36</td>\n",
       "      <td>19.50</td>\n",
       "      <td>98.00</td>\n",
       "      <td>2.35</td>\n",
       "      <td>2.13</td>\n",
       "      <td>0.34</td>\n",
       "      <td>1.56</td>\n",
       "      <td>4.69</td>\n",
       "      <td>0.96</td>\n",
       "      <td>2.78</td>\n",
       "      <td>673.50</td>\n",
       "    </tr>\n",
       "    <tr>\n",
       "      <th>75%</th>\n",
       "      <td>3.00</td>\n",
       "      <td>13.68</td>\n",
       "      <td>3.08</td>\n",
       "      <td>2.56</td>\n",
       "      <td>21.50</td>\n",
       "      <td>107.00</td>\n",
       "      <td>2.80</td>\n",
       "      <td>2.88</td>\n",
       "      <td>0.44</td>\n",
       "      <td>1.95</td>\n",
       "      <td>6.20</td>\n",
       "      <td>1.12</td>\n",
       "      <td>3.17</td>\n",
       "      <td>985.00</td>\n",
       "    </tr>\n",
       "    <tr>\n",
       "      <th>max</th>\n",
       "      <td>3.00</td>\n",
       "      <td>14.83</td>\n",
       "      <td>5.80</td>\n",
       "      <td>3.23</td>\n",
       "      <td>30.00</td>\n",
       "      <td>162.00</td>\n",
       "      <td>3.88</td>\n",
       "      <td>5.08</td>\n",
       "      <td>0.66</td>\n",
       "      <td>3.58</td>\n",
       "      <td>13.00</td>\n",
       "      <td>1.71</td>\n",
       "      <td>4.00</td>\n",
       "      <td>1680.00</td>\n",
       "    </tr>\n",
       "  </tbody>\n",
       "</table>\n",
       "</div>"
      ],
      "text/plain": [
       "       class  Alcohol  Malic_acid    Ash  Alcalinity_of_ash  Magnessium  \\\n",
       "count 178.00   178.00      178.00 178.00             178.00      178.00   \n",
       "mean    1.94    13.00        2.34   2.37              19.49       99.74   \n",
       "std     0.78     0.81        1.12   0.27               3.34       14.28   \n",
       "min     1.00    11.03        0.74   1.36              10.60       70.00   \n",
       "25%     1.00    12.36        1.60   2.21              17.20       88.00   \n",
       "50%     2.00    13.05        1.87   2.36              19.50       98.00   \n",
       "75%     3.00    13.68        3.08   2.56              21.50      107.00   \n",
       "max     3.00    14.83        5.80   3.23              30.00      162.00   \n",
       "\n",
       "       Total_phenols  Flavanoids  Nonflavanoid_phenols  Proacthocyanins  \\\n",
       "count         178.00      178.00                178.00           178.00   \n",
       "mean            2.30        2.03                  0.36             1.59   \n",
       "std             0.63        1.00                  0.12             0.57   \n",
       "min             0.98        0.34                  0.13             0.41   \n",
       "25%             1.74        1.21                  0.27             1.25   \n",
       "50%             2.35        2.13                  0.34             1.56   \n",
       "75%             2.80        2.88                  0.44             1.95   \n",
       "max             3.88        5.08                  0.66             3.58   \n",
       "\n",
       "       Color_intensity    Hue  OD280/OD315_of_diluted_wines  Proline  \n",
       "count           178.00 178.00                        178.00   178.00  \n",
       "mean              5.06   0.96                          2.61   746.89  \n",
       "std               2.32   0.23                          0.71   314.91  \n",
       "min               1.28   0.48                          1.27   278.00  \n",
       "25%               3.22   0.78                          1.94   500.50  \n",
       "50%               4.69   0.96                          2.78   673.50  \n",
       "75%               6.20   1.12                          3.17   985.00  \n",
       "max              13.00   1.71                          4.00  1680.00  "
      ]
     },
     "execution_count": 103,
     "metadata": {},
     "output_type": "execute_result"
    }
   ],
   "source": [
    "#Exercici 1, Exercici 2, Exercici 4, Exercici 5\n",
    "#Els faig alhora ja que considero que per fer els models em caldrà fer els processos que demanen tots junts.\n",
    "import pandas as pd\n",
    "import numpy as np\n",
    "\n",
    "data=pd.read_csv('wineData.txt',sep=',',header=None)\n",
    "data.columns=[\"class\",\"Alcohol\",\"Malic_acid\",\"Ash\",\"Alcalinity_of_ash\",\"Magnessium\",\"Total_phenols\",\"Flavanoids\",\"Nonflavanoid_phenols\",\"Proacthocyanins\",\"Color_intensity\",\"Hue\",\"OD280/OD315_of_diluted_wines\",\"Proline\"]\n",
    "data.describe() # faig un analisi dels estadístics principals per veure un resum de les dades.\n"
   ]
  },
  {
   "cell_type": "code",
   "execution_count": 74,
   "id": "6548feee",
   "metadata": {},
   "outputs": [
    {
     "data": {
      "image/png": "[encoded data removed]",
      "text/plain": [
       "<Figure size 432x288 with 2 Axes>"
      ]
     },
     "metadata": {
      "needs_background": "light"
     },
     "output_type": "display_data"
    },
    {
     "data": {
      "text/plain": [
       "0.9722222222222222"
      ]
     },
     "execution_count": 74,
     "metadata": {},
     "output_type": "execute_result"
    }
   ],
   "source": [
    "# Exercici 1\n",
    "\n",
    "from sklearn.model_selection import train_test_split\n",
    "\n",
    "X=data.drop('class',axis=1)\n",
    "y=data['class']\n",
    "\n",
    "X_train,X_test,y_train,y_test =train_test_split(X,y,test_size=0.2,random_state=123)\n",
    "\n",
    "## Decision trees.\n",
    "from sklearn import metrics\n",
    "from sklearn.tree import DecisionTreeClassifier\n",
    "import matplotlib.pyplot as plt\n",
    "\n",
    "clf=DecisionTreeClassifier()\n",
    "clf=clf.fit(X_train,y_train)\n",
    "y_pred=clf.predict(X_test)\n",
    "\n",
    "confusion_trees=metrics.confusion_matrix(y_test,y_pred)\n",
    "cm_display=metrics.ConfusionMatrixDisplay(confusion_matrix=confusion_trees)\n",
    "cm_display.plot()\n",
    "plt.show()\n",
    "accuracy_trees=metrics.accuracy_score(y_test,y_pred)\n",
    "accuracy_trees\n",
    "\n"
   ]
  },
  {
   "cell_type": "code",
   "execution_count": 73,
   "id": "225803af",
   "metadata": {},
   "outputs": [
    {
     "data": {
      "image/png": "[encoded data removed]",
      "text/plain": [
       "<Figure size 432x288 with 2 Axes>"
      ]
     },
     "metadata": {
      "needs_background": "light"
     },
     "output_type": "display_data"
    },
    {
     "name": "stdout",
     "output_type": "stream",
     "text": [
      "Accuracy: 0.9444444444444444\n"
     ]
    }
   ],
   "source": [
    "## SVM\n",
    "from sklearn import svm\n",
    "clf=svm.SVC(kernel='linear')\n",
    "clf.fit(X_train,y_train)\n",
    "y_pred = clf.predict(X_test)\n",
    "\n",
    "confusion_svm=metrics.confusion_matrix(y_test,y_pred)\n",
    "cm_display=metrics.ConfusionMatrixDisplay(confusion_matrix=confusion_svm)\n",
    "cm_display.plot()\n",
    "plt.show()\n",
    "\n",
    "\n",
    "print(\"Accuracy:\",metrics.accuracy_score(y_test, y_pred))"
   ]
  },
  {
   "cell_type": "code",
   "execution_count": null,
   "id": "3dd68da9",
   "metadata": {},
   "outputs": [],
   "source": [
    "#Exercici 2:\n",
    "\n",
    "#Veiem que el 1r model és millor a priori ja que te un accuracy més alt.\n"
   ]
  },
  {
   "cell_type": "code",
   "execution_count": 81,
   "id": "d64a55ad",
   "metadata": {},
   "outputs": [
    {
     "name": "stdout",
     "output_type": "stream",
     "text": [
      "0.9103174603174603 {'max_depth': 4}\n"
     ]
    }
   ],
   "source": [
    "# Exercici 3\n",
    "#Decision trees millorat:\n",
    "from sklearn import tree\n",
    "from sklearn.model_selection import GridSearchCV\n",
    "\n",
    "x=data.drop('class',axis=1)\n",
    "y=data['class']\n",
    "\n",
    "parameters = {'max_depth':range(3,20)}\n",
    "clf = GridSearchCV(DecisionTreeClassifier(), parameters, n_jobs=4)\n",
    "clf.fit(X=x, y=y)\n",
    "tree_model = clf.best_estimator_\n",
    "print (clf.best_score_, clf.best_params_)\n",
    "\n",
    "#Per algún motiu que desconec obtinc un valor del accuracy inferior al del model simple."
   ]
  },
  {
   "cell_type": "code",
   "execution_count": 89,
   "id": "e190fc0c",
   "metadata": {},
   "outputs": [
    {
     "data": {
      "image/png": "[encoded data removed]",
      "text/plain": [
       "<Figure size 432x288 with 2 Axes>"
      ]
     },
     "metadata": {
      "needs_background": "light"
     },
     "output_type": "display_data"
    },
    {
     "name": "stdout",
     "output_type": "stream",
     "text": [
      "Accuracy: 0.5\n"
     ]
    }
   ],
   "source": [
    "#SVM millorat:\n",
    "\n",
    "from sklearn import svm\n",
    "clf=svm.SVC(kernel='rbf')\n",
    "clf.fit(X_train,y_train)\n",
    "y_pred = clf.predict(X_test)\n",
    "\n",
    "confusion_svm=metrics.confusion_matrix(y_test,y_pred)\n",
    "cm_display=metrics.ConfusionMatrixDisplay(confusion_matrix=confusion_svm)\n",
    "cm_display.plot()\n",
    "plt.show()\n",
    "\n",
    "\n",
    "print(\"Accuracy:\",metrics.accuracy_score(y_test, y_pred))"
   ]
  },
  {
   "cell_type": "code",
   "execution_count": null,
   "id": "acab2f10",
   "metadata": {},
   "outputs": [],
   "source": [
    "#En el cas del svm em sorpren no millorar el model canviant el Kernel ja que en principi el rbf o poly solen traçar millor les \"linies\" de separació entre classes."
   ]
  },
  {
   "cell_type": "code",
   "execution_count": 94,
   "id": "f3c028ce",
   "metadata": {},
   "outputs": [
    {
     "name": "stdout",
     "output_type": "stream",
     "text": [
      "0.88 accuracy with a standard deviation of 0.05\n"
     ]
    }
   ],
   "source": [
    "# Exercici 4\n",
    "#Decision trees \n",
    "\n",
    "from sklearn.model_selection import cross_val_score\n",
    "clf=DecisionTreeClassifier()\n",
    "scores=cross_val_score(clf,X,Y,cv=5)\n",
    "scores\n",
    "print(\"%0.2f accuracy with a standard deviation of %0.2f\" % (scores.mean(), scores.std()))"
   ]
  },
  {
   "cell_type": "code",
   "execution_count": 95,
   "id": "53c7acb3",
   "metadata": {},
   "outputs": [
    {
     "name": "stdout",
     "output_type": "stream",
     "text": [
      "0.96 accuracy with a standard deviation of 0.04\n"
     ]
    }
   ],
   "source": [
    "#SVM\n",
    "from sklearn.model_selection import cross_val_score\n",
    "clf=svm.SVC(kernel='linear',C=1,random_state=42)\n",
    "scores=cross_val_score(clf,X,Y,cv=5)\n",
    "scores\n",
    "print(\"%0.2f accuracy with a standard deviation of %0.2f\" % (scores.mean(), scores.std()))"
   ]
  },
  {
   "cell_type": "code",
   "execution_count": 105,
   "id": "264a4377",
   "metadata": {},
   "outputs": [
    {
     "ename": "AttributeError",
     "evalue": "'numpy.ndarray' object has no attribute 'head'",
     "output_type": "error",
     "traceback": [
      "\u001b[1;31m---------------------------------------------------------------------------\u001b[0m",
      "\u001b[1;31mAttributeError\u001b[0m                            Traceback (most recent call last)",
      "Input \u001b[1;32mIn [105]\u001b[0m, in \u001b[0;36m<cell line: 16>\u001b[1;34m()\u001b[0m\n\u001b[0;32m     12\u001b[0m data_normalized\u001b[38;5;241m=\u001b[39mMinMax_Scaler\u001b[38;5;241m.\u001b[39mfit_transform(Scaled_data)\n\u001b[0;32m     14\u001b[0m data\u001b[38;5;241m=\u001b[39mdata_normalized\n\u001b[1;32m---> 16\u001b[0m \u001b[43mScaled_data\u001b[49m\u001b[38;5;241;43m.\u001b[39;49m\u001b[43mhead\u001b[49m()\n",
      "\u001b[1;31mAttributeError\u001b[0m: 'numpy.ndarray' object has no attribute 'head'"
     ]
    }
   ],
   "source": [
    "# Exercici 5\n",
    "\n",
    "#estandaritzo:\n",
    "from sklearn import preprocessing\n",
    "\n",
    "Stdscaler=preprocessing.StandardScaler().fit(data)\n",
    "Scaled_data=Stdscaler.transform(data)\n",
    "\n",
    "#normalitzo:\n",
    "\n",
    "MinMax_Scaler=preprocessing.MinMaxScaler(feature_range=(0,1))\n",
    "data_normalized=MinMax_Scaler.fit_transform(Scaled_data)\n",
    "\n",
    "data=data_normalized\n",
    "\n"
   ]
  },
  {
   "cell_type": "code",
   "execution_count": 101,
   "id": "f5b3e333",
   "metadata": {},
   "outputs": [
    {
     "ename": "KeyError",
     "evalue": "\"['class'] not found in axis\"",
     "output_type": "error",
     "traceback": [
      "\u001b[1;31m---------------------------------------------------------------------------\u001b[0m",
      "\u001b[1;31mKeyError\u001b[0m                                  Traceback (most recent call last)",
      "Input \u001b[1;32mIn [101]\u001b[0m, in \u001b[0;36m<cell line: 6>\u001b[1;34m()\u001b[0m\n\u001b[0;32m      3\u001b[0m data\u001b[38;5;241m=\u001b[39mpd\u001b[38;5;241m.\u001b[39mDataFrame(data)\n\u001b[0;32m      4\u001b[0m \u001b[38;5;28;01mfrom\u001b[39;00m \u001b[38;5;21;01msklearn\u001b[39;00m\u001b[38;5;21;01m.\u001b[39;00m\u001b[38;5;21;01mmodel_selection\u001b[39;00m \u001b[38;5;28;01mimport\u001b[39;00m train_test_split\n\u001b[1;32m----> 6\u001b[0m X\u001b[38;5;241m=\u001b[39m\u001b[43mdata\u001b[49m\u001b[38;5;241;43m.\u001b[39;49m\u001b[43mdrop\u001b[49m\u001b[43m(\u001b[49m\u001b[38;5;124;43m'\u001b[39;49m\u001b[38;5;124;43mclass\u001b[39;49m\u001b[38;5;124;43m'\u001b[39;49m\u001b[43m,\u001b[49m\u001b[43maxis\u001b[49m\u001b[38;5;241;43m=\u001b[39;49m\u001b[38;5;241;43m1\u001b[39;49m\u001b[43m)\u001b[49m\n\u001b[0;32m      7\u001b[0m y\u001b[38;5;241m=\u001b[39mdata[\u001b[38;5;124m'\u001b[39m\u001b[38;5;124mclass\u001b[39m\u001b[38;5;124m'\u001b[39m]\n\u001b[0;32m      9\u001b[0m X_train,X_test,y_train,y_test \u001b[38;5;241m=\u001b[39mtrain_test_split(X,y,test_size\u001b[38;5;241m=\u001b[39m\u001b[38;5;241m0.2\u001b[39m,random_state\u001b[38;5;241m=\u001b[39m\u001b[38;5;241m123\u001b[39m)\n",
      "File \u001b[1;32m~\\anaconda3\\lib\\site-packages\\pandas\\util\\_decorators.py:311\u001b[0m, in \u001b[0;36mdeprecate_nonkeyword_arguments.<locals>.decorate.<locals>.wrapper\u001b[1;34m(*args, **kwargs)\u001b[0m\n\u001b[0;32m    305\u001b[0m \u001b[38;5;28;01mif\u001b[39;00m \u001b[38;5;28mlen\u001b[39m(args) \u001b[38;5;241m>\u001b[39m num_allow_args:\n\u001b[0;32m    306\u001b[0m     warnings\u001b[38;5;241m.\u001b[39mwarn(\n\u001b[0;32m    307\u001b[0m         msg\u001b[38;5;241m.\u001b[39mformat(arguments\u001b[38;5;241m=\u001b[39marguments),\n\u001b[0;32m    308\u001b[0m         \u001b[38;5;167;01mFutureWarning\u001b[39;00m,\n\u001b[0;32m    309\u001b[0m         stacklevel\u001b[38;5;241m=\u001b[39mstacklevel,\n\u001b[0;32m    310\u001b[0m     )\n\u001b[1;32m--> 311\u001b[0m \u001b[38;5;28;01mreturn\u001b[39;00m func(\u001b[38;5;241m*\u001b[39margs, \u001b[38;5;241m*\u001b[39m\u001b[38;5;241m*\u001b[39mkwargs)\n",
      "File \u001b[1;32m~\\anaconda3\\lib\\site-packages\\pandas\\core\\frame.py:4954\u001b[0m, in \u001b[0;36mDataFrame.drop\u001b[1;34m(self, labels, axis, index, columns, level, inplace, errors)\u001b[0m\n\u001b[0;32m   4806\u001b[0m \u001b[38;5;129m@deprecate_nonkeyword_arguments\u001b[39m(version\u001b[38;5;241m=\u001b[39m\u001b[38;5;28;01mNone\u001b[39;00m, allowed_args\u001b[38;5;241m=\u001b[39m[\u001b[38;5;124m\"\u001b[39m\u001b[38;5;124mself\u001b[39m\u001b[38;5;124m\"\u001b[39m, \u001b[38;5;124m\"\u001b[39m\u001b[38;5;124mlabels\u001b[39m\u001b[38;5;124m\"\u001b[39m])\n\u001b[0;32m   4807\u001b[0m \u001b[38;5;28;01mdef\u001b[39;00m \u001b[38;5;21mdrop\u001b[39m(\n\u001b[0;32m   4808\u001b[0m     \u001b[38;5;28mself\u001b[39m,\n\u001b[1;32m   (...)\u001b[0m\n\u001b[0;32m   4815\u001b[0m     errors: \u001b[38;5;28mstr\u001b[39m \u001b[38;5;241m=\u001b[39m \u001b[38;5;124m\"\u001b[39m\u001b[38;5;124mraise\u001b[39m\u001b[38;5;124m\"\u001b[39m,\n\u001b[0;32m   4816\u001b[0m ):\n\u001b[0;32m   4817\u001b[0m     \u001b[38;5;124;03m\"\"\"\u001b[39;00m\n\u001b[0;32m   4818\u001b[0m \u001b[38;5;124;03m    Drop specified labels from rows or columns.\u001b[39;00m\n\u001b[0;32m   4819\u001b[0m \n\u001b[1;32m   (...)\u001b[0m\n\u001b[0;32m   4952\u001b[0m \u001b[38;5;124;03m            weight  1.0     0.8\u001b[39;00m\n\u001b[0;32m   4953\u001b[0m \u001b[38;5;124;03m    \"\"\"\u001b[39;00m\n\u001b[1;32m-> 4954\u001b[0m     \u001b[38;5;28;01mreturn\u001b[39;00m \u001b[38;5;28;43msuper\u001b[39;49m\u001b[43m(\u001b[49m\u001b[43m)\u001b[49m\u001b[38;5;241;43m.\u001b[39;49m\u001b[43mdrop\u001b[49m\u001b[43m(\u001b[49m\n\u001b[0;32m   4955\u001b[0m \u001b[43m        \u001b[49m\u001b[43mlabels\u001b[49m\u001b[38;5;241;43m=\u001b[39;49m\u001b[43mlabels\u001b[49m\u001b[43m,\u001b[49m\n\u001b[0;32m   4956\u001b[0m \u001b[43m        \u001b[49m\u001b[43maxis\u001b[49m\u001b[38;5;241;43m=\u001b[39;49m\u001b[43maxis\u001b[49m\u001b[43m,\u001b[49m\n\u001b[0;32m   4957\u001b[0m \u001b[43m        \u001b[49m\u001b[43mindex\u001b[49m\u001b[38;5;241;43m=\u001b[39;49m\u001b[43mindex\u001b[49m\u001b[43m,\u001b[49m\n\u001b[0;32m   4958\u001b[0m \u001b[43m        \u001b[49m\u001b[43mcolumns\u001b[49m\u001b[38;5;241;43m=\u001b[39;49m\u001b[43mcolumns\u001b[49m\u001b[43m,\u001b[49m\n\u001b[0;32m   4959\u001b[0m \u001b[43m        \u001b[49m\u001b[43mlevel\u001b[49m\u001b[38;5;241;43m=\u001b[39;49m\u001b[43mlevel\u001b[49m\u001b[43m,\u001b[49m\n\u001b[0;32m   4960\u001b[0m \u001b[43m        \u001b[49m\u001b[43minplace\u001b[49m\u001b[38;5;241;43m=\u001b[39;49m\u001b[43minplace\u001b[49m\u001b[43m,\u001b[49m\n\u001b[0;32m   4961\u001b[0m \u001b[43m        \u001b[49m\u001b[43merrors\u001b[49m\u001b[38;5;241;43m=\u001b[39;49m\u001b[43merrors\u001b[49m\u001b[43m,\u001b[49m\n\u001b[0;32m   4962\u001b[0m \u001b[43m    \u001b[49m\u001b[43m)\u001b[49m\n",
      "File \u001b[1;32m~\\anaconda3\\lib\\site-packages\\pandas\\core\\generic.py:4267\u001b[0m, in \u001b[0;36mNDFrame.drop\u001b[1;34m(self, labels, axis, index, columns, level, inplace, errors)\u001b[0m\n\u001b[0;32m   4265\u001b[0m \u001b[38;5;28;01mfor\u001b[39;00m axis, labels \u001b[38;5;129;01min\u001b[39;00m axes\u001b[38;5;241m.\u001b[39mitems():\n\u001b[0;32m   4266\u001b[0m     \u001b[38;5;28;01mif\u001b[39;00m labels \u001b[38;5;129;01mis\u001b[39;00m \u001b[38;5;129;01mnot\u001b[39;00m \u001b[38;5;28;01mNone\u001b[39;00m:\n\u001b[1;32m-> 4267\u001b[0m         obj \u001b[38;5;241m=\u001b[39m \u001b[43mobj\u001b[49m\u001b[38;5;241;43m.\u001b[39;49m\u001b[43m_drop_axis\u001b[49m\u001b[43m(\u001b[49m\u001b[43mlabels\u001b[49m\u001b[43m,\u001b[49m\u001b[43m \u001b[49m\u001b[43maxis\u001b[49m\u001b[43m,\u001b[49m\u001b[43m \u001b[49m\u001b[43mlevel\u001b[49m\u001b[38;5;241;43m=\u001b[39;49m\u001b[43mlevel\u001b[49m\u001b[43m,\u001b[49m\u001b[43m \u001b[49m\u001b[43merrors\u001b[49m\u001b[38;5;241;43m=\u001b[39;49m\u001b[43merrors\u001b[49m\u001b[43m)\u001b[49m\n\u001b[0;32m   4269\u001b[0m \u001b[38;5;28;01mif\u001b[39;00m inplace:\n\u001b[0;32m   4270\u001b[0m     \u001b[38;5;28mself\u001b[39m\u001b[38;5;241m.\u001b[39m_update_inplace(obj)\n",
      "File \u001b[1;32m~\\anaconda3\\lib\\site-packages\\pandas\\core\\generic.py:4311\u001b[0m, in \u001b[0;36mNDFrame._drop_axis\u001b[1;34m(self, labels, axis, level, errors, consolidate, only_slice)\u001b[0m\n\u001b[0;32m   4309\u001b[0m         new_axis \u001b[38;5;241m=\u001b[39m axis\u001b[38;5;241m.\u001b[39mdrop(labels, level\u001b[38;5;241m=\u001b[39mlevel, errors\u001b[38;5;241m=\u001b[39merrors)\n\u001b[0;32m   4310\u001b[0m     \u001b[38;5;28;01melse\u001b[39;00m:\n\u001b[1;32m-> 4311\u001b[0m         new_axis \u001b[38;5;241m=\u001b[39m \u001b[43maxis\u001b[49m\u001b[38;5;241;43m.\u001b[39;49m\u001b[43mdrop\u001b[49m\u001b[43m(\u001b[49m\u001b[43mlabels\u001b[49m\u001b[43m,\u001b[49m\u001b[43m \u001b[49m\u001b[43merrors\u001b[49m\u001b[38;5;241;43m=\u001b[39;49m\u001b[43merrors\u001b[49m\u001b[43m)\u001b[49m\n\u001b[0;32m   4312\u001b[0m     indexer \u001b[38;5;241m=\u001b[39m axis\u001b[38;5;241m.\u001b[39mget_indexer(new_axis)\n\u001b[0;32m   4314\u001b[0m \u001b[38;5;66;03m# Case for non-unique axis\u001b[39;00m\n\u001b[0;32m   4315\u001b[0m \u001b[38;5;28;01melse\u001b[39;00m:\n",
      "File \u001b[1;32m~\\anaconda3\\lib\\site-packages\\pandas\\core\\indexes\\base.py:6644\u001b[0m, in \u001b[0;36mIndex.drop\u001b[1;34m(self, labels, errors)\u001b[0m\n\u001b[0;32m   6642\u001b[0m \u001b[38;5;28;01mif\u001b[39;00m mask\u001b[38;5;241m.\u001b[39many():\n\u001b[0;32m   6643\u001b[0m     \u001b[38;5;28;01mif\u001b[39;00m errors \u001b[38;5;241m!=\u001b[39m \u001b[38;5;124m\"\u001b[39m\u001b[38;5;124mignore\u001b[39m\u001b[38;5;124m\"\u001b[39m:\n\u001b[1;32m-> 6644\u001b[0m         \u001b[38;5;28;01mraise\u001b[39;00m \u001b[38;5;167;01mKeyError\u001b[39;00m(\u001b[38;5;124mf\u001b[39m\u001b[38;5;124m\"\u001b[39m\u001b[38;5;132;01m{\u001b[39;00m\u001b[38;5;28mlist\u001b[39m(labels[mask])\u001b[38;5;132;01m}\u001b[39;00m\u001b[38;5;124m not found in axis\u001b[39m\u001b[38;5;124m\"\u001b[39m)\n\u001b[0;32m   6645\u001b[0m     indexer \u001b[38;5;241m=\u001b[39m indexer[\u001b[38;5;241m~\u001b[39mmask]\n\u001b[0;32m   6646\u001b[0m \u001b[38;5;28;01mreturn\u001b[39;00m \u001b[38;5;28mself\u001b[39m\u001b[38;5;241m.\u001b[39mdelete(indexer)\n",
      "\u001b[1;31mKeyError\u001b[0m: \"['class'] not found in axis\""
     ]
    }
   ],
   "source": [
    "# Decision trees:\n",
    "\n",
    "data=pd.DataFrame(data)\n",
    "from sklearn.model_selection import train_test_split\n",
    "\n",
    "X=data.drop('class',axis=1)\n",
    "y=data['class']\n",
    "\n",
    "X_train,X_test,y_train,y_test =train_test_split(X,y,test_size=0.2,random_state=123)\n",
    "\n",
    "## Decision trees.\n",
    "from sklearn import metrics\n",
    "from sklearn.tree import DecisionTreeClassifier\n",
    "import matplotlib.pyplot as plt\n",
    "\n",
    "clf=DecisionTreeClassifier()\n",
    "clf=clf.fit(X_train,y_train)\n",
    "y_pred=clf.predict(X_test)\n",
    "\n",
    "confusion_trees=metrics.confusion_matrix(y_test,y_pred)\n",
    "cm_display=metrics.ConfusionMatrixDisplay(confusion_matrix=confusion_trees)\n",
    "cm_display.plot()\n",
    "plt.show()\n",
    "accuracy_trees=metrics.accuracy_score(y_test,y_pred)\n",
    "accuracy_trees\n",
    "\n",
    "#No entenc perque em dona error si data és un data frame."
   ]
  }
 ],
 "metadata": {
  "kernelspec": {
   "display_name": "Python 3 (ipykernel)",
   "language": "python",
   "name": "python3"
  },
  "language_info": {
   "codemirror_mode": {
    "name": "ipython",
    "version": 3
   },
   "file_extension": ".py",
   "mimetype": "text/x-python",
   "name": "python",
   "nbconvert_exporter": "python",
   "pygments_lexer": "ipython3",
   "version": "3.9.12"
  }
 },
 "nbformat": 4,
 "nbformat_minor": 5
}
