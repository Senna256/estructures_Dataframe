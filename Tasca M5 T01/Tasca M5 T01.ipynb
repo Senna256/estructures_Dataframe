{
 "cells": [
  {
   "cell_type": "code",
   "execution_count": 28,
   "id": "9b446b11",
   "metadata": {},
   "outputs": [
    {
     "data": {
      "text/html": [
       "<div>\n",
       "<style scoped>\n",
       "    .dataframe tbody tr th:only-of-type {\n",
       "        vertical-align: middle;\n",
       "    }\n",
       "\n",
       "    .dataframe tbody tr th {\n",
       "        vertical-align: top;\n",
       "    }\n",
       "\n",
       "    .dataframe thead th {\n",
       "        text-align: right;\n",
       "    }\n",
       "</style>\n",
       "<table border=\"1\" class=\"dataframe\">\n",
       "  <thead>\n",
       "    <tr style=\"text-align: right;\">\n",
       "      <th></th>\n",
       "      <th>Squad</th>\n",
       "      <th>Country</th>\n",
       "      <th>LgRk</th>\n",
       "      <th>MP</th>\n",
       "      <th>W</th>\n",
       "      <th>D</th>\n",
       "      <th>L</th>\n",
       "      <th>GF</th>\n",
       "      <th>GA</th>\n",
       "      <th>GD</th>\n",
       "      <th>Pts</th>\n",
       "      <th>Pts/G</th>\n",
       "      <th>xG</th>\n",
       "      <th>xGA</th>\n",
       "      <th>xGD</th>\n",
       "      <th>xGD/90</th>\n",
       "      <th>Last 5</th>\n",
       "      <th>Attendance</th>\n",
       "      <th>Top Team Scorer</th>\n",
       "      <th>Goalkeeper</th>\n",
       "    </tr>\n",
       "    <tr>\n",
       "      <th>Rk</th>\n",
       "      <th></th>\n",
       "      <th></th>\n",
       "      <th></th>\n",
       "      <th></th>\n",
       "      <th></th>\n",
       "      <th></th>\n",
       "      <th></th>\n",
       "      <th></th>\n",
       "      <th></th>\n",
       "      <th></th>\n",
       "      <th></th>\n",
       "      <th></th>\n",
       "      <th></th>\n",
       "      <th></th>\n",
       "      <th></th>\n",
       "      <th></th>\n",
       "      <th></th>\n",
       "      <th></th>\n",
       "      <th></th>\n",
       "      <th></th>\n",
       "    </tr>\n",
       "  </thead>\n",
       "  <tbody>\n",
       "    <tr>\n",
       "      <th>1</th>\n",
       "      <td>Manchester City</td>\n",
       "      <td>ENG</td>\n",
       "      <td>1</td>\n",
       "      <td>37</td>\n",
       "      <td>28</td>\n",
       "      <td>6</td>\n",
       "      <td>3</td>\n",
       "      <td>96</td>\n",
       "      <td>24</td>\n",
       "      <td>72</td>\n",
       "      <td>90</td>\n",
       "      <td>2.43</td>\n",
       "      <td>86.1</td>\n",
       "      <td>26.8</td>\n",
       "      <td>59.3</td>\n",
       "      <td>1.60</td>\n",
       "      <td>W W W W D</td>\n",
       "      <td>52739</td>\n",
       "      <td>Kevin De Bruyne - 15</td>\n",
       "      <td>Ederson</td>\n",
       "    </tr>\n",
       "    <tr>\n",
       "      <th>2</th>\n",
       "      <td>Liverpool</td>\n",
       "      <td>ENG</td>\n",
       "      <td>2</td>\n",
       "      <td>36</td>\n",
       "      <td>26</td>\n",
       "      <td>8</td>\n",
       "      <td>2</td>\n",
       "      <td>89</td>\n",
       "      <td>24</td>\n",
       "      <td>65</td>\n",
       "      <td>86</td>\n",
       "      <td>2.39</td>\n",
       "      <td>84.6</td>\n",
       "      <td>33.1</td>\n",
       "      <td>51.4</td>\n",
       "      <td>1.43</td>\n",
       "      <td>W W W D W</td>\n",
       "      <td>53367</td>\n",
       "      <td>Mohamed Salah - 22</td>\n",
       "      <td>Alisson</td>\n",
       "    </tr>\n",
       "    <tr>\n",
       "      <th>3</th>\n",
       "      <td>Real Madrid</td>\n",
       "      <td>ESP</td>\n",
       "      <td>1</td>\n",
       "      <td>37</td>\n",
       "      <td>26</td>\n",
       "      <td>7</td>\n",
       "      <td>4</td>\n",
       "      <td>80</td>\n",
       "      <td>31</td>\n",
       "      <td>49</td>\n",
       "      <td>85</td>\n",
       "      <td>2.30</td>\n",
       "      <td>73.0</td>\n",
       "      <td>45.8</td>\n",
       "      <td>27.2</td>\n",
       "      <td>0.73</td>\n",
       "      <td>W W L W D</td>\n",
       "      <td>40624</td>\n",
       "      <td>Karim Benzema - 27</td>\n",
       "      <td>Thibaut Courtois</td>\n",
       "    </tr>\n",
       "  </tbody>\n",
       "</table>\n",
       "</div>"
      ],
      "text/plain": [
       "              Squad Country  LgRk  MP   W  D  L  GF  GA  GD  Pts  Pts/G    xG  \\\n",
       "Rk                                                                              \n",
       "1   Manchester City     ENG     1  37  28  6  3  96  24  72   90   2.43  86.1   \n",
       "2         Liverpool     ENG     2  36  26  8  2  89  24  65   86   2.39  84.6   \n",
       "3       Real Madrid     ESP     1  37  26  7  4  80  31  49   85   2.30  73.0   \n",
       "\n",
       "     xGA   xGD  xGD/90     Last 5  Attendance       Top Team Scorer  \\\n",
       "Rk                                                                    \n",
       "1   26.8  59.3    1.60  W W W W D       52739  Kevin De Bruyne - 15   \n",
       "2   33.1  51.4    1.43  W W W D W       53367    Mohamed Salah - 22   \n",
       "3   45.8  27.2    0.73  W W L W D       40624    Karim Benzema - 27   \n",
       "\n",
       "          Goalkeeper  \n",
       "Rk                    \n",
       "1            Ederson  \n",
       "2            Alisson  \n",
       "3   Thibaut Courtois  "
      ]
     },
     "execution_count": 28,
     "metadata": {},
     "output_type": "execute_result"
    }
   ],
   "source": [
    "#Tasca M5 T01 Enric Sena alvarez\n",
    "import pandas as pd\n",
    "  \n",
    "df = pd.read_csv('Lligues.csv', index_col=0, sep=';', encoding='latin-1')\n"
   ]
  },
  {
   "cell_type": "code",
   "execution_count": 38,
   "id": "82317bdc",
   "metadata": {},
   "outputs": [
    {
     "name": "stdout",
     "output_type": "stream",
     "text": [
      "ShapiroResult(statistic=0.6051993370056152, pvalue=7.748343999291855e-15)\n"
     ]
    },
    {
     "data": {
      "text/plain": [
       "129059835248847.11"
      ]
     },
     "execution_count": 38,
     "metadata": {},
     "output_type": "execute_result"
    }
   ],
   "source": [
    "#Exercici 1\n",
    "#Com que no se ben bé que vol que testi l'enunciat, vaig a suposar que les varaibles són valors de mostres i per tant puc comparar columnes entre elles.\n",
    "\n",
    "#Vaig a sel·leccionar la columna MP per mirar si segueix una distribució normal i per fer-ho realitzaré el test de shapiro-wilk.\n",
    "from scipy.stats import shapiro\n",
    "data=df[\"MP\"]\n",
    "p=shapiro(data)\n",
    "print(p)\n",
    "#Com que veiem que el p-valor ens surt molt inferior a 0.05 que és el nivell de significació, podem rebutjar H0 que és la hipòtesi més conservadora i la qual diu que les dades segueixen una distribució normal i per tant podem dir amb un 95% de certesa que les dades no són normals. \n",
    "#També podriem entendre el p-valor com la probabilitat que realitzant el test moltes vegades, ens sortis una vegada no-significatiu, és a dir ens sortis que les dades segueixen una distribució normal quan realment no és així. ( hauriem de realitzar el test d'hipòtesi unes 1/p-valor que surt que caldría fer el test 129059835248847.11 vegades.)"
   ]
  },
  {
   "cell_type": "code",
   "execution_count": 41,
   "id": "c4ca8f34",
   "metadata": {},
   "outputs": [
    {
     "name": "stdout",
     "output_type": "stream",
     "text": [
      "Ttest_indResult(statistic=6.212285255919629, pvalue=3.118924391860533e-09)\n"
     ]
    }
   ],
   "source": [
    "#Exercici 2 \n",
    "#Vaig a comparar si les mitjanes de les columnes W i D són iguales.\n",
    "#Per realitzar-ho duré a terme un t.test\n",
    "from scipy.stats import ttest_ind\n",
    "data1=df[\"W\"]\n",
    "data2=df[\"D\"]\n",
    "p=ttest_ind(data1,data2)\n",
    "print(p)\n",
    "# També ens surt un p-valor inferior al nivell de significació i per tant podem rebutjar que les mitjanes de les dues columnes siguin iguals i per tant podem dir amb una certesa del 95% que les mitjanes de les columnes W i D són diferents."
   ]
  },
  {
   "cell_type": "code",
   "execution_count": 43,
   "id": "dfba2698",
   "metadata": {},
   "outputs": [
    {
     "name": "stdout",
     "output_type": "stream",
     "text": [
      "F_onewayResult(statistic=221.0569025766639, pvalue=4.1114170239876985e-59)\n"
     ]
    }
   ],
   "source": [
    "#Exercici 3\n",
    "#Per comparar més de 2 grups es fa servir el test ANOVA (Analysis of variance) el qual ens compara si les mitjanes dels 3 grups que volem comparar són iguals.\n",
    "from scipy.stats import f_oneway\n",
    "data1=df[\"GF\"]\n",
    "data2=df[\"GA\"]\n",
    "data3=df[\"GD\"]\n",
    "p=f_oneway(data1,data2,data3)\n",
    "print(p)\n",
    "#Altre cop obtenim un p-valor molt petit i per tant podem afirmar al 95% que les mitjanes dels 3 grups són diferents"
   ]
  }
 ],
 "metadata": {
  "kernelspec": {
   "display_name": "Python 3 (ipykernel)",
   "language": "python",
   "name": "python3"
  },
  "language_info": {
   "codemirror_mode": {
    "name": "ipython",
    "version": 3
   },
   "file_extension": ".py",
   "mimetype": "text/x-python",
   "name": "python",
   "nbconvert_exporter": "python",
   "pygments_lexer": "ipython3",
   "version": "3.9.12"
  }
 },
 "nbformat": 4,
 "nbformat_minor": 5
}
